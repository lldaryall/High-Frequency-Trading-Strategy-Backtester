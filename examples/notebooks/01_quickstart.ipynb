{
  "cells": [
    {
      "cell_type": "markdown",
      "metadata": {},
      "source": [
        "# Flashback HFT Backtesting Engine - Quickstart\n",
        "\n",
        "This notebook demonstrates a complete backtesting workflow using the Flashback HFT backtesting engine.\n",
        "\n",
        "## What we'll do:\n",
        "1. Generate synthetic market data\n",
        "2. Run a momentum imbalance strategy\n",
        "3. Analyze performance metrics\n",
        "4. Visualize results\n"
      ]
    },
    {
      "cell_type": "code",
      "execution_count": null,
      "metadata": {},
      "outputs": [],
      "source": [
        "import sys\n",
        "import os\n",
        "sys.path.append('../../')\n",
        "\n",
        "import pandas as pd\n",
        "import numpy as np\n",
        "import matplotlib.pyplot as plt\n",
        "import seaborn as sns\n",
        "from pathlib import Path\n",
        "\n",
        "# Flashback imports\n",
        "from flashback.cli.runner import BacktestRunner\n",
        "from flashback.config.parser import load_config\n",
        "from flashback.metrics.performance import PerformanceAnalyzer\n",
        "\n",
        "# Set up plotting\n",
        "plt.style.use('seaborn-v0_8')\n",
        "sns.set_palette(\"husl\")\n",
        "\n",
        "print(\"✅ Imports successful!\")\n"
      ]
    },
    {
      "cell_type": "markdown",
      "metadata": {},
      "source": [
        "## 1. Generate Synthetic Market Data\n",
        "\n",
        "First, let's generate realistic market data with microprice movements, bursts, and order flow imbalance.\n"
      ]
    },
    {
      "cell_type": "code",
      "execution_count": null,
      "metadata": {},
      "outputs": [],
      "source": [
        "# Generate synthetic data\n",
        "from examples.generate_synthetic import generate_synthetic_data\n",
        "\n",
        "# Generate 200k events for quick demo\n",
        "book_file, trade_file = generate_synthetic_data(\n",
        "    symbol=\"AAPL\",\n",
        "    num_events=200000,\n",
        "    seed=42,\n",
        "    output_dir=\"../../examples/sample_data\"\n",
        ")\n",
        "\n",
        "print(f\"📊 Generated data files:\")\n",
        "print(f\"   Book: {book_file}\")\n",
        "print(f\"   Trades: {trade_file}\")\n"
      ]
    },
    {
      "cell_type": "markdown",
      "metadata": {},
      "source": [
        "## 2. Run Backtest with Momentum Imbalance Strategy\n",
        "\n",
        "Now let's run a backtest using the momentum imbalance strategy on our synthetic data.\n"
      ]
    },
    {
      "cell_type": "code",
      "execution_count": null,
      "metadata": {},
      "outputs": [],
      "source": [
        "# Load backtest configuration\n",
        "config_path = \"../../config/backtest.yaml\"\n",
        "config = load_config(config_path)\n",
        "\n",
        "# Update config to use our generated data\n",
        "config.data.path = book_file\n",
        "config.report.output_dir = \"../../runs/quickstart_demo\"\n",
        "\n",
        "print(\"⚙️  Backtest Configuration:\")\n",
        "print(f\"   Strategy: {config.strategy.name}\")\n",
        "print(f\"   Data: {config.data.path}\")\n",
        "print(f\"   Output: {config.report.output_dir}\")\n",
        "\n",
        "# Run the backtest\n",
        "print(\"🚀 Starting backtest...\")\n",
        "\n",
        "runner = BacktestRunner(config)\n",
        "results = runner.run()\n",
        "\n",
        "print(\"✅ Backtest completed!\")\n",
        "print(f\"📊 Results saved to: {config.report.output_dir}\")\n"
      ]
    },
    {
      "cell_type": "markdown",
      "metadata": {},
      "source": [
        "## 3. Analyze Performance Results\n",
        "\n",
        "Let's examine the performance metrics and trading results.\n"
      ]
    },
    {
      "cell_type": "code",
      "execution_count": null,
      "metadata": {},
      "outputs": [],
      "source": [
        "# Load performance results\n",
        "results_dir = Path(config.report.output_dir)\n",
        "performance_file = results_dir / \"performance.json\"\n",
        "\n",
        "if performance_file.exists():\n",
        "    import json\n",
        "    with open(performance_file, 'r') as f:\n",
        "        performance = json.load(f)\n",
        "    \n",
        "    print(\"📈 Performance Metrics:\")\n",
        "    print(f\"   Total Return: {performance.get('total_return', 0):.2%}\")\n",
        "    print(f\"   Sharpe Ratio: {performance.get('sharpe_ratio', 0):.2f}\")\n",
        "    print(f\"   Max Drawdown: {performance.get('max_drawdown', 0):.2%}\")\n",
        "    print(f\"   Total Trades: {performance.get('total_trades', 0)}\")\n",
        "    print(f\"   Hit Rate: {performance.get('hit_rate', 0):.2%}\")\n",
        "    print(f\"   Turnover: {performance.get('turnover', 0):.2f}\")\n",
        "else:\n",
        "    print(\"❌ Performance file not found\")\n",
        "\n",
        "print(\"🎉 Quickstart completed successfully!\")\n",
        "print(f\"📁 All results saved to: {config.report.output_dir}\")\n"
      ]
    },
    {
      "cell_type": "markdown",
      "metadata": {},
      "source": [
        "\n"
      ]
    },
    {
      "cell_type": "markdown",
      "metadata": {},
      "source": [
        "\n"
      ]
    },
    {
      "cell_type": "code",
      "execution_count": null,
      "metadata": {},
      "outputs": [],
      "source": [
        "\n"
      ]
    },
    {
      "cell_type": "markdown",
      "metadata": {},
      "source": [
        "\n"
      ]
    },
    {
      "cell_type": "code",
      "execution_count": null,
      "metadata": {},
      "outputs": [],
      "source": [
        "\n"
      ]
    },
    {
      "cell_type": "code",
      "execution_count": null,
      "metadata": {},
      "outputs": [],
      "source": [
        "\n"
      ]
    },
    {
      "cell_type": "code",
      "execution_count": null,
      "metadata": {},
      "outputs": [],
      "source": [
        "\n"
      ]
    },
    {
      "cell_type": "markdown",
      "metadata": {},
      "source": [
        "\n"
      ]
    },
    {
      "cell_type": "code",
      "execution_count": null,
      "metadata": {},
      "outputs": [],
      "source": [
        "\n"
      ]
    },
    {
      "cell_type": "markdown",
      "metadata": {},
      "source": [
        "\n"
      ]
    },
    {
      "cell_type": "code",
      "execution_count": null,
      "metadata": {},
      "outputs": [],
      "source": [
        "\n"
      ]
    },
    {
      "cell_type": "code",
      "execution_count": null,
      "metadata": {},
      "outputs": [],
      "source": [
        "\n"
      ]
    },
    {
      "cell_type": "markdown",
      "metadata": {},
      "source": [
        "\n"
      ]
    },
    {
      "cell_type": "code",
      "execution_count": null,
      "metadata": {},
      "outputs": [],
      "source": [
        "\n"
      ]
    },
    {
      "cell_type": "markdown",
      "metadata": {},
      "source": [
        "\n"
      ]
    },
    {
      "cell_type": "code",
      "execution_count": null,
      "metadata": {},
      "outputs": [],
      "source": [
        "\n"
      ]
    },
    {
      "cell_type": "markdown",
      "metadata": {},
      "source": [
        "\n"
      ]
    },
    {
      "cell_type": "code",
      "execution_count": null,
      "metadata": {},
      "outputs": [],
      "source": [
        "\n"
      ]
    },
    {
      "cell_type": "markdown",
      "metadata": {},
      "source": [
        "\n"
      ]
    }
  ],
  "metadata": {
    "language_info": {
      "name": "python"
    }
  },
  "nbformat": 4,
  "nbformat_minor": 2
}
